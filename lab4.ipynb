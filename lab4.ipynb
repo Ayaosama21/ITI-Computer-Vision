{
 "cells": [
  {
   "cell_type": "code",
   "execution_count": 16,
   "metadata": {},
   "outputs": [],
   "source": [
    "import cv2\n",
    "import numpy as np\n",
    "from matplotlib import pyplot as plt"
   ]
  },
  {
   "cell_type": "markdown",
   "metadata": {},
   "source": [
    "# Q10- read “Task_in” image and then print image shape ,plot the image using matplotlib and opencv then edit the right corner pixel to be red color then save the image as (.jpg,.npg) to your current folder name it “my_image.png” then read both image again. “Make your observation\""
   ]
  },
  {
   "cell_type": "code",
   "execution_count": 17,
   "metadata": {},
   "outputs": [
    {
     "data": {
      "text/plain": [
       "(21, 21, 3)"
      ]
     },
     "execution_count": 17,
     "metadata": {},
     "output_type": "execute_result"
    }
   ],
   "source": [
    "# read image\n",
    "img = cv2.imread(\"Task_in.jpg\")\n",
    "# print image shape\n",
    "img.shape"
   ]
  },
  {
   "cell_type": "code",
   "execution_count": 18,
   "metadata": {},
   "outputs": [
    {
     "data": {
      "text/plain": [
       "<matplotlib.image.AxesImage at 0x201d5c01150>"
      ]
     },
     "execution_count": 18,
     "metadata": {},
     "output_type": "execute_result"
    },
    {
     "data": {
      "image/png": "[encoded data removed]",
      "text/plain": [
       "<Figure size 432x288 with 1 Axes>"
      ]
     },
     "metadata": {
      "needs_background": "light"
     },
     "output_type": "display_data"
    }
   ],
   "source": [
    "# plot image using matplotlib\n",
    "plt.imshow(img)"
   ]
  },
  {
   "cell_type": "code",
   "execution_count": 19,
   "metadata": {},
   "outputs": [
    {
     "name": "stdout",
     "output_type": "stream",
     "text": [
      "82\n",
      "83\n",
      "84\n",
      "85\n",
      "87\n",
      "88\n",
      "90\n",
      "91\n",
      "92\n",
      "93\n",
      "94\n",
      "95\n",
      "96\n",
      "97\n",
      "98\n",
      "100\n",
      "101\n",
      "102\n",
      "103\n",
      "104\n",
      "105\n",
      "106\n",
      "107\n",
      "109\n",
      "111\n",
      "112\n",
      "114\n",
      "116\n",
      "117\n",
      "118\n",
      "120\n",
      "121\n",
      "123\n",
      "124\n",
      "126\n",
      "127\n",
      "128\n",
      "129\n",
      "131\n",
      "132\n",
      "133\n",
      "135\n",
      "137\n",
      "138\n",
      "140\n",
      "141\n",
      "143\n",
      "144\n",
      "146\n",
      "148\n",
      "149\n",
      "152\n",
      "153\n",
      "155\n",
      "157\n",
      "159\n",
      "161\n",
      "164\n",
      "165\n",
      "167\n",
      "169\n",
      "170\n",
      "172\n",
      "174\n",
      "175\n",
      "176\n",
      "177\n",
      "178\n",
      "179\n",
      "180\n",
      "181\n",
      "182\n",
      "183\n",
      "184\n",
      "254\n",
      "252\n",
      "251\n",
      "248\n",
      "245\n",
      "239\n",
      "226\n",
      "213\n",
      "198\n",
      "183\n",
      "170\n",
      "167\n",
      "162\n",
      "159\n",
      "156\n",
      "153\n",
      "151\n",
      "148\n",
      "146\n",
      "144\n",
      "142\n",
      "140\n",
      "138\n",
      "135\n",
      "132\n",
      "129\n",
      "126\n",
      "123\n",
      "120\n",
      "117\n",
      "115\n",
      "113\n",
      "111\n",
      "108\n",
      "106\n",
      "103\n",
      "101\n",
      "99\n",
      "97\n",
      "96\n",
      "94\n",
      "93\n",
      "91\n",
      "89\n",
      "88\n",
      "87\n",
      "85\n",
      "84\n",
      "82\n",
      "80\n",
      "78\n",
      "77\n",
      "74\n",
      "73\n",
      "71\n",
      "69\n",
      "68\n",
      "66\n",
      "64\n",
      "62\n",
      "61\n",
      "59\n",
      "57\n",
      "133\n",
      "82\n",
      "133\n",
      "152\n",
      "153\n",
      "154\n",
      "156\n",
      "158\n",
      "160\n",
      "163\n",
      "165\n",
      "167\n",
      "169\n",
      "171\n",
      "172\n",
      "173\n",
      "175\n",
      "176\n",
      "177\n",
      "178\n",
      "179\n",
      "180\n",
      "181\n"
     ]
    }
   ],
   "source": [
    "# plot image using opencv\n",
    "cv2.imshow(\"black_image\",img)\n",
    "cv2.waitKey(0)      \n",
    "cv2.destroyAllWindows()  "
   ]
  },
  {
   "cell_type": "code",
   "execution_count": 20,
   "metadata": {},
   "outputs": [
    {
     "data": {
      "text/plain": [
       "<matplotlib.image.AxesImage at 0x201d5c72230>"
      ]
     },
     "execution_count": 20,
     "metadata": {},
     "output_type": "execute_result"
    },
    {
     "data": {
      "image/png": "[encoded data removed]",
      "text/plain": [
       "<Figure size 432x288 with 1 Axes>"
      ]
     },
     "metadata": {
      "needs_background": "light"
     },
     "output_type": "display_data"
    }
   ],
   "source": [
    "# edit right corner pixel to be red color then save image as (.jpg,.npg) to your current folder name it “my_image.png” \n",
    "plt.imshow(img[0:10,10:24,::-1])\n"
   ]
  },
  {
   "cell_type": "code",
   "execution_count": 21,
   "metadata": {},
   "outputs": [
    {
     "data": {
      "image/png": "[encoded data removed]",
      "text/plain": [
       "<Figure size 432x288 with 1 Axes>"
      ]
     },
     "metadata": {
      "needs_background": "light"
     },
     "output_type": "display_data"
    }
   ],
   "source": [
    "img[0:10,10:24,::-1]=(0,0,255)\n",
    "plt.imshow(img)\n",
    "plt.savefig(\"my_image.png\") #save as png"
   ]
  },
  {
   "cell_type": "code",
   "execution_count": 22,
   "metadata": {},
   "outputs": [
    {
     "data": {
      "text/plain": [
       "<matplotlib.image.AxesImage at 0x201d5cf31c0>"
      ]
     },
     "execution_count": 22,
     "metadata": {},
     "output_type": "execute_result"
    },
    {
     "data": {
      "image/png": "[encoded data removed]",
      "text/plain": [
       "<Figure size 432x288 with 1 Axes>"
      ]
     },
     "metadata": {
      "needs_background": "light"
     },
     "output_type": "display_data"
    }
   ],
   "source": [
    "x = cv2.imread(\"Task_in.jpg\")\n",
    "plt.imshow(x)"
   ]
  },
  {
   "cell_type": "code",
   "execution_count": 23,
   "metadata": {},
   "outputs": [
    {
     "data": {
      "text/plain": [
       "<matplotlib.image.AxesImage at 0x201d5db0a90>"
      ]
     },
     "execution_count": 23,
     "metadata": {},
     "output_type": "execute_result"
    },
    {
     "data": {
      "image/png": "[encoded data removed]",
      "text/plain": [
       "<Figure size 432x288 with 1 Axes>"
      ]
     },
     "metadata": {
      "needs_background": "light"
     },
     "output_type": "display_data"
    }
   ],
   "source": [
    "plt.imshow(cv2.imread(\"my_image.png\"))"
   ]
  },
  {
   "cell_type": "markdown",
   "metadata": {},
   "source": [
    "# Q11- make 51 * 51 * 3 RGB image with Blue color then save it as”Blue.jpg”"
   ]
  },
  {
   "cell_type": "code",
   "execution_count": 24,
   "metadata": {},
   "outputs": [
    {
     "data": {
      "image/png": "[encoded data removed]",
      "text/plain": [
       "<Figure size 432x288 with 1 Axes>"
      ]
     },
     "metadata": {
      "needs_background": "light"
     },
     "output_type": "display_data"
    }
   ],
   "source": [
    "x = cv2.imread(\"Task_in.jpg\")\n",
    "x[:,:,::-1]=(255,0,0)\n",
    "resized = cv2.resize(x, (51, 51))\n",
    "plt.imshow(resized)\n",
    "plt.savefig(\"Blue.jpg\") #save as jpg\n"
   ]
  },
  {
   "cell_type": "markdown",
   "metadata": {},
   "source": [
    "# Q12- Make trackbar for rgb colors with window “colors” ."
   ]
  },
  {
   "cell_type": "code",
   "execution_count": 1,
   "metadata": {},
   "outputs": [
    {
     "name": "stdout",
     "output_type": "stream",
     "text": [
      "51\n",
      "51\n",
      "51\n"
     ]
    },
    {
     "ename": "error",
     "evalue": "OpenCV(4.6.0) D:\\a\\opencv-python\\opencv-python\\opencv\\modules\\highgui\\src\\window_w32.cpp:2581: error: (-27:Null pointer) NULL window: 'my_image' in function 'cvGetTrackbarPos'\n",
     "output_type": "error",
     "traceback": [
      "\u001b[1;31m---------------------------------------------------------------------------\u001b[0m",
      "\u001b[1;31merror\u001b[0m                                     Traceback (most recent call last)",
      "\u001b[1;32m~\\AppData\\Local\\Temp\\ipykernel_18260\\673401130.py\u001b[0m in \u001b[0;36m<module>\u001b[1;34m\u001b[0m\n\u001b[0;32m     11\u001b[0m \u001b[1;33m\u001b[0m\u001b[0m\n\u001b[0;32m     12\u001b[0m \u001b[1;32mwhile\u001b[0m \u001b[1;32mTrue\u001b[0m\u001b[1;33m:\u001b[0m\u001b[1;33m\u001b[0m\u001b[1;33m\u001b[0m\u001b[0m\n\u001b[1;32m---> 13\u001b[1;33m     \u001b[0mR\u001b[0m \u001b[1;33m=\u001b[0m \u001b[0mcv2\u001b[0m\u001b[1;33m.\u001b[0m\u001b[0mgetTrackbarPos\u001b[0m\u001b[1;33m(\u001b[0m\u001b[1;34m'R'\u001b[0m\u001b[1;33m,\u001b[0m\u001b[1;34m'my_image'\u001b[0m\u001b[1;33m)\u001b[0m\u001b[1;33m\u001b[0m\u001b[1;33m\u001b[0m\u001b[0m\n\u001b[0m\u001b[0;32m     14\u001b[0m     \u001b[0mG\u001b[0m \u001b[1;33m=\u001b[0m \u001b[0mcv2\u001b[0m\u001b[1;33m.\u001b[0m\u001b[0mgetTrackbarPos\u001b[0m\u001b[1;33m(\u001b[0m\u001b[1;34m'G'\u001b[0m\u001b[1;33m,\u001b[0m\u001b[1;34m'my_image'\u001b[0m\u001b[1;33m)\u001b[0m\u001b[1;33m\u001b[0m\u001b[1;33m\u001b[0m\u001b[0m\n\u001b[0;32m     15\u001b[0m     \u001b[0mB\u001b[0m \u001b[1;33m=\u001b[0m \u001b[0mcv2\u001b[0m\u001b[1;33m.\u001b[0m\u001b[0mgetTrackbarPos\u001b[0m\u001b[1;33m(\u001b[0m\u001b[1;34m'B'\u001b[0m\u001b[1;33m,\u001b[0m\u001b[1;34m'my_image'\u001b[0m\u001b[1;33m)\u001b[0m\u001b[1;33m\u001b[0m\u001b[1;33m\u001b[0m\u001b[0m\n",
      "\u001b[1;31merror\u001b[0m: OpenCV(4.6.0) D:\\a\\opencv-python\\opencv-python\\opencv\\modules\\highgui\\src\\window_w32.cpp:2581: error: (-27:Null pointer) NULL window: 'my_image' in function 'cvGetTrackbarPos'\n"
     ]
    }
   ],
   "source": [
    "import cv2 \n",
    "import numpy as np\n",
    "def nothing(x):\n",
    "    print(x)\n",
    "cv2.namedWindow(\"my_image\") # make window named my_image\n",
    "cv2.createTrackbar('R','my_image',0,255,nothing)    \n",
    "cv2.createTrackbar('G','my_image',0,255,nothing)    \n",
    "cv2.createTrackbar('B','my_image',0,255,nothing)    \n",
    "\n",
    "img = np.zeros((500,500,3),np.uint8)   # shape of image size 500*500 but 3 channel\n",
    "\n",
    "while True:\n",
    "    R = cv2.getTrackbarPos('R','my_image')\n",
    "    G = cv2.getTrackbarPos('G','my_image')\n",
    "    B = cv2.getTrackbarPos('B','my_image')\n",
    "    img[:] = [R,G,B]\n",
    "    cv2.imshow(\"my_image\",img)\n",
    "    k=cv2.waitKey(1000)\n",
    "    if k==ord('q'):\n",
    "        break\n",
    "cv2.destroyAllWindows()"
   ]
  }
 ],
 "metadata": {
  "kernelspec": {
   "display_name": "Python 3.10.1 64-bit",
   "language": "python",
   "name": "python3"
  },
  "language_info": {
   "codemirror_mode": {
    "name": "ipython",
    "version": 3
   },
   "file_extension": ".py",
   "mimetype": "text/x-python",
   "name": "python",
   "nbconvert_exporter": "python",
   "pygments_lexer": "ipython3",
   "version": "3.10.1"
  },
  "orig_nbformat": 4,
  "vscode": {
   "interpreter": {
    "hash": "a0256f640a9faacc6fdd11ce3975ae53a442410c216a5e467e7a1e716d377cb3"
   }
  }
 },
 "nbformat": 4,
 "nbformat_minor": 2
}
