{
 "cells": [
  {
   "cell_type": "code",
   "execution_count": 27,
   "metadata": {},
   "outputs": [],
   "source": [
    "import cv2\n",
    "import numpy as np\n",
    "from matplotlib import pyplot as plt"
   ]
  },
  {
   "cell_type": "markdown",
   "metadata": {},
   "source": [
    "# Q1- Create image 256*256 Draw red square 50*50 in the center of blue circle with radius 80 the center of both square and circle is the same center of image. \n"
   ]
  },
  {
   "cell_type": "code",
   "execution_count": 16,
   "metadata": {},
   "outputs": [
    {
     "data": {
      "text/plain": [
       "<matplotlib.image.AxesImage at 0x1b0ead2beb0>"
      ]
     },
     "execution_count": 16,
     "metadata": {},
     "output_type": "execute_result"
    },
    {
     "data": {
      "image/png": "[encoded data removed]",
      "text/plain": [
       "<Figure size 432x288 with 1 Axes>"
      ]
     },
     "metadata": {
      "needs_background": "light"
     },
     "output_type": "display_data"
    }
   ],
   "source": [
    "img=np.zeros((256,256,3),np.uint8)\n",
    "x = cv2.rectangle(img,(100,100),(150,150),(255,0,0),3)\n",
    "cir =np.zeros((256,256,3),np.uint8)\n",
    "y = cv2.circle(img,(125,125),80,(0,0,255),3)\n",
    "plt.imshow(x)\n",
    "plt.imshow(y)"
   ]
  },
  {
   "cell_type": "markdown",
   "metadata": {},
   "source": [
    "#  make trackbar to control line position ,color and thickness in image 500*500 rgb"
   ]
  },
  {
   "cell_type": "code",
   "execution_count": 1,
   "metadata": {},
   "outputs": [
    {
     "ename": "error",
     "evalue": "OpenCV(4.6.0) D:\\a\\opencv-python\\opencv-python\\opencv\\modules\\imgproc\\src\\drawing.cpp:1802: error: (-215:Assertion failed) 0 < thickness && thickness <= MAX_THICKNESS in function 'cv::line'\n",
     "output_type": "error",
     "traceback": [
      "\u001b[1;31m---------------------------------------------------------------------------\u001b[0m",
      "\u001b[1;31merror\u001b[0m                                     Traceback (most recent call last)",
      "\u001b[1;32m~\\AppData\\Local\\Temp\\ipykernel_6268\\1004610170.py\u001b[0m in \u001b[0;36m<module>\u001b[1;34m\u001b[0m\n\u001b[0;32m     22\u001b[0m     \u001b[1;31m#G = cv2.getTrackbarPos('G','image')\u001b[0m\u001b[1;33m\u001b[0m\u001b[1;33m\u001b[0m\u001b[0m\n\u001b[0;32m     23\u001b[0m     \u001b[1;31m#B = cv2.getTrackbarPos('B','image')\u001b[0m\u001b[1;33m\u001b[0m\u001b[1;33m\u001b[0m\u001b[0m\n\u001b[1;32m---> 24\u001b[1;33m     \u001b[0mcv2\u001b[0m\u001b[1;33m.\u001b[0m\u001b[0mline\u001b[0m\u001b[1;33m(\u001b[0m\u001b[0mimg\u001b[0m\u001b[1;33m,\u001b[0m\u001b[1;33m(\u001b[0m\u001b[0mx0\u001b[0m\u001b[1;33m,\u001b[0m\u001b[0my0\u001b[0m\u001b[1;33m)\u001b[0m\u001b[1;33m,\u001b[0m\u001b[1;33m(\u001b[0m\u001b[0mx1\u001b[0m\u001b[1;33m,\u001b[0m\u001b[0my1\u001b[0m\u001b[1;33m)\u001b[0m\u001b[1;33m,\u001b[0m\u001b[0mthick_2\u001b[0m\u001b[1;33m,\u001b[0m\u001b[0mcolor\u001b[0m\u001b[1;33m)\u001b[0m\u001b[1;33m\u001b[0m\u001b[1;33m\u001b[0m\u001b[0m\n\u001b[0m\u001b[0;32m     25\u001b[0m     \u001b[1;31m#cv2.circle(img,(250,250),100,(255,0,0),2)\u001b[0m\u001b[1;33m\u001b[0m\u001b[1;33m\u001b[0m\u001b[0m\n\u001b[0;32m     26\u001b[0m     \u001b[0mcv2\u001b[0m\u001b[1;33m.\u001b[0m\u001b[0mimshow\u001b[0m\u001b[1;33m(\u001b[0m\u001b[1;34m'my_image'\u001b[0m\u001b[1;33m,\u001b[0m\u001b[0mimg\u001b[0m\u001b[1;33m)\u001b[0m\u001b[1;33m\u001b[0m\u001b[1;33m\u001b[0m\u001b[0m\n",
      "\u001b[1;31merror\u001b[0m: OpenCV(4.6.0) D:\\a\\opencv-python\\opencv-python\\opencv\\modules\\imgproc\\src\\drawing.cpp:1802: error: (-215:Assertion failed) 0 < thickness && thickness <= MAX_THICKNESS in function 'cv::line'\n"
     ]
    },
    {
     "ename": "",
     "evalue": "",
     "output_type": "error",
     "traceback": [
      "\u001b[1;31mThe Kernel crashed while executing code in the the current cell or a previous cell. Please review the code in the cell(s) to identify a possible cause of the failure. Click <a href='https://aka.ms/vscodeJupyterKernelCrash'>here</a> for more info. View Jupyter <a href='command:jupyter.viewOutput'>log</a> for further details."
     ]
    }
   ],
   "source": [
    "import cv2\n",
    "import numpy as np\n",
    "cv2.namedWindow(\"image\")\n",
    "def nothing(x):\n",
    "    pass\n",
    "cv2.createTrackbar('x0','image',250,499,nothing)\n",
    "cv2.createTrackbar('x1','image',350,499,nothing)\n",
    "cv2.createTrackbar('y0','image',250,499,nothing)\n",
    "cv2.createTrackbar('y1','image',250,499,nothing)\n",
    "cv2.createTrackbar('thick','image',1,10,nothing)\n",
    "cv2.createTrackbar('color','image',0,255,nothing)    \n",
    "#cv2.createTrackbar('G','image',0,255,nothing)    \n",
    "#cv2.createTrackbar('B','image',0,255,nothing)    \n",
    "while True:\n",
    "    img=np.zeros((500,500,3),np.uint8)\n",
    "    x0=cv2.getTrackbarPos('x0','image')\n",
    "    x1=cv2.getTrackbarPos('x1','image')\n",
    "    y0=cv2.getTrackbarPos('y0','image')\n",
    "    y1=cv2.getTrackbarPos('y1','image')\n",
    "    thick_2=cv2.getTrackbarPos('thick','image')\n",
    "    color = cv2.getTrackbarPos('color','image')\n",
    "    #G = cv2.getTrackbarPos('G','image')\n",
    "    #B = cv2.getTrackbarPos('B','image')\n",
    "    cv2.line(img,(x0,y0),(x1,y1),thick_2,color)\n",
    "    #cv2.circle(img,(250,250),100,(255,0,0),2)\n",
    "    cv2.imshow('my_image',img)\n",
    "    k=cv2.waitKey(1)\n",
    "    if k==ord('q'):\n",
    "        break\n",
    "cv2.destroyAllWindows()"
   ]
  },
  {
   "cell_type": "markdown",
   "metadata": {},
   "source": [
    "# Q3 make trackbar to control position,radius and color of circle in image 500*500 rgb"
   ]
  },
  {
   "cell_type": "code",
   "execution_count": 2,
   "metadata": {},
   "outputs": [
    {
     "ename": "error",
     "evalue": "OpenCV(4.6.0) D:\\a\\opencv-python\\opencv-python\\opencv\\modules\\highgui\\src\\window.cpp:862: error: (-215:Assertion failed) trackbar in function 'cv::getTrackbarPos'\n",
     "output_type": "error",
     "traceback": [
      "\u001b[1;31m---------------------------------------------------------------------------\u001b[0m",
      "\u001b[1;31merror\u001b[0m                                     Traceback (most recent call last)",
      "\u001b[1;32m~\\AppData\\Local\\Temp\\ipykernel_17840\\3412192684.py\u001b[0m in \u001b[0;36m<module>\u001b[1;34m\u001b[0m\n\u001b[0;32m     14\u001b[0m     \u001b[0mimg\u001b[0m\u001b[1;33m=\u001b[0m\u001b[0mnp\u001b[0m\u001b[1;33m.\u001b[0m\u001b[0mzeros\u001b[0m\u001b[1;33m(\u001b[0m\u001b[1;33m(\u001b[0m\u001b[1;36m500\u001b[0m\u001b[1;33m,\u001b[0m\u001b[1;36m500\u001b[0m\u001b[1;33m,\u001b[0m\u001b[1;36m3\u001b[0m\u001b[1;33m)\u001b[0m\u001b[1;33m,\u001b[0m\u001b[0mnp\u001b[0m\u001b[1;33m.\u001b[0m\u001b[0muint8\u001b[0m\u001b[1;33m)\u001b[0m\u001b[1;33m\u001b[0m\u001b[1;33m\u001b[0m\u001b[0m\n\u001b[0;32m     15\u001b[0m     \u001b[0mx0\u001b[0m\u001b[1;33m=\u001b[0m\u001b[0mcv2\u001b[0m\u001b[1;33m.\u001b[0m\u001b[0mgetTrackbarPos\u001b[0m\u001b[1;33m(\u001b[0m\u001b[1;34m'x0'\u001b[0m\u001b[1;33m,\u001b[0m\u001b[1;34m'image'\u001b[0m\u001b[1;33m)\u001b[0m\u001b[1;33m\u001b[0m\u001b[1;33m\u001b[0m\u001b[0m\n\u001b[1;32m---> 16\u001b[1;33m     \u001b[0mx1\u001b[0m\u001b[1;33m=\u001b[0m\u001b[0mcv2\u001b[0m\u001b[1;33m.\u001b[0m\u001b[0mgetTrackbarPos\u001b[0m\u001b[1;33m(\u001b[0m\u001b[1;34m'x1'\u001b[0m\u001b[1;33m,\u001b[0m\u001b[1;34m'image'\u001b[0m\u001b[1;33m)\u001b[0m\u001b[1;33m\u001b[0m\u001b[1;33m\u001b[0m\u001b[0m\n\u001b[0m\u001b[0;32m     17\u001b[0m     \u001b[0my0\u001b[0m\u001b[1;33m=\u001b[0m\u001b[0mcv2\u001b[0m\u001b[1;33m.\u001b[0m\u001b[0mgetTrackbarPos\u001b[0m\u001b[1;33m(\u001b[0m\u001b[1;34m'y0'\u001b[0m\u001b[1;33m,\u001b[0m\u001b[1;34m'image'\u001b[0m\u001b[1;33m)\u001b[0m\u001b[1;33m\u001b[0m\u001b[1;33m\u001b[0m\u001b[0m\n\u001b[0;32m     18\u001b[0m     \u001b[0my1\u001b[0m\u001b[1;33m=\u001b[0m\u001b[0mcv2\u001b[0m\u001b[1;33m.\u001b[0m\u001b[0mgetTrackbarPos\u001b[0m\u001b[1;33m(\u001b[0m\u001b[1;34m'y1'\u001b[0m\u001b[1;33m,\u001b[0m\u001b[1;34m'image'\u001b[0m\u001b[1;33m)\u001b[0m\u001b[1;33m\u001b[0m\u001b[1;33m\u001b[0m\u001b[0m\n",
      "\u001b[1;31merror\u001b[0m: OpenCV(4.6.0) D:\\a\\opencv-python\\opencv-python\\opencv\\modules\\highgui\\src\\window.cpp:862: error: (-215:Assertion failed) trackbar in function 'cv::getTrackbarPos'\n"
     ]
    },
    {
     "ename": "",
     "evalue": "",
     "output_type": "error",
     "traceback": [
      "\u001b[1;31mThe Kernel crashed while executing code in the the current cell or a previous cell. Please review the code in the cell(s) to identify a possible cause of the failure. Click <a href='https://aka.ms/vscodeJupyterKernelCrash'>here</a> for more info. View Jupyter <a href='command:jupyter.viewOutput'>log</a> for further details."
     ]
    }
   ],
   "source": [
    "cv2.namedWindow(\"image\")\n",
    "def nothing(x):\n",
    "    pass\n",
    "cv2.createTrackbar('x0','image',250,499,nothing)\n",
    "#cv2.createTrackbar('x1','image',350,499,nothing)\n",
    "cv2.createTrackbar('y0','image',250,499,nothing)\n",
    "#cv2.createTrackbar('y1','image',250,499,nothing)\n",
    "cv2.createTrackbar('radius','image',1,499,nothing)\n",
    "#cv2.createTrackbar('thick','image',1,10,nothing)\n",
    "cv2.createTrackbar('color','image',0,255,nothing)    \n",
    "#cv2.createTrackbar('G','image',0,255,nothing)    \n",
    "#cv2.createTrackbar('B','image',0,255,nothing)    \n",
    "while True:\n",
    "    img=np.zeros((500,500,3),np.uint8)\n",
    "    x0=cv2.getTrackbarPos('x0','image')\n",
    "    x1=cv2.getTrackbarPos('x1','image')\n",
    "    y0=cv2.getTrackbarPos('y0','image')\n",
    "    y1=cv2.getTrackbarPos('y1','image')\n",
    "    radius = cv2.getTrackbarPos('radius','image')\n",
    "    thick_2=cv2.getTrackbarPos('thick','image')\n",
    "    color = cv2.getTrackbarPos('color','image')\n",
    "    #G = cv2.getTrackbarPos('G','image')\n",
    "    #B = cv2.getTrackbarPos('B','image')\n",
    "    #cv2.line(img,(x0,y0),(x1,y1),thick_2,color)\n",
    "    cv2.circle(img,(x0,y0),radius,(255,0,0),color)\n",
    "    cv2.imshow('my_image',img)\n",
    "    k=cv2.waitKey(1)\n",
    "    if k==ord('q'):\n",
    "        break\n",
    "cv2.destroyAllWindows()"
   ]
  },
  {
   "cell_type": "markdown",
   "metadata": {},
   "source": [
    "# Q4 create image 800*800 rgb write a word “Hello”with red color and draw yellow rectangle on border of word"
   ]
  },
  {
   "cell_type": "code",
   "execution_count": 14,
   "metadata": {},
   "outputs": [
    {
     "data": {
      "text/plain": [
       "<matplotlib.image.AxesImage at 0x1b0eaae86d0>"
      ]
     },
     "execution_count": 14,
     "metadata": {},
     "output_type": "execute_result"
    },
    {
     "data": {
      "image/png": "[encoded data removed]",
      "text/plain": [
       "<Figure size 432x288 with 1 Axes>"
      ]
     },
     "metadata": {
      "needs_background": "light"
     },
     "output_type": "display_data"
    }
   ],
   "source": [
    "img=np.zeros((800,800,3),np.uint8)\n",
    "font=cv2.FONT_HERSHEY_SIMPLEX\n",
    "font2=cv2.FONT_HERSHEY_COMPLEX\n",
    "cv2.putText(img,\"Hello\",(100,250),font2,4,(255,0,0),10)\n",
    "# make yellow rectangle around text\n",
    "cv2.rectangle(img, (50,120), (470,300), (255,255,0), 2)\n",
    "plt.imshow(img)"
   ]
  },
  {
   "cell_type": "markdown",
   "metadata": {},
   "source": [
    "# Q5 create image 800*800 rgb with red circle in center of image with radius 100 and make small blue circle with radius of 6 that move within circumference of the big circle every 1 second 10 degree."
   ]
  },
  {
   "cell_type": "code",
   "execution_count": 31,
   "metadata": {},
   "outputs": [
    {
     "data": {
      "text/plain": [
       "<matplotlib.image.AxesImage at 0x20455c87730>"
      ]
     },
     "execution_count": 31,
     "metadata": {},
     "output_type": "execute_result"
    },
    {
     "data": {
      "image/png": "[encoded data removed]",
      "text/plain": [
       "<Figure size 432x288 with 1 Axes>"
      ]
     },
     "metadata": {
      "needs_background": "light"
     },
     "output_type": "display_data"
    }
   ],
   "source": [
    "from cmath import sqrt\n",
    "import math\n",
    "\n",
    "\n",
    "img=np.zeros((800,800,3),np.uint8)\n",
    "cv2.circle(img,(400,400),100,(255,0,0),2)\n",
    "\n",
    "x = cv2.circle(img,(494,400),6,(0,0,255),2)\n",
    "\n",
    "\n",
    "\n",
    "def move_circle(x):\n",
    "    #Specifies parameters to draw the new orbital\n",
    "    #new_orbital = Circle(atom_center, 300) \n",
    "    new_orbital = cv2.circle(img,(400,400),100,(255,0,0),2)\n",
    "    #new_orbital.setOutline(\"red\")\n",
    "    #new_orbital.draw(win)\n",
    " \n",
    "    #Calculates the center of the circle to be moved\n",
    "    a = x.getCenter()\n",
    "    b = a.getX()\n",
    "    c = a.getY()\n",
    "    for i in range(int(-b),int(b)):\n",
    "        radius = 100\n",
    "        theta = math.radians(i)\n",
    "       # theta = 10\n",
    "        x = radius*math.cos(theta)\n",
    "        y = radius*math.sin(theta)\n",
    "        print(x,y)\n",
    " \n",
    "        s = (b-x)**2\n",
    "        t = (c-y)**2\n",
    "        d = sqrt(s+t)\n",
    "\n",
    "plt.imshow(img)\n"
   ]
  }
 ],
 "metadata": {
  "kernelspec": {
   "display_name": "Python 3.10.1 64-bit",
   "language": "python",
   "name": "python3"
  },
  "language_info": {
   "codemirror_mode": {
    "name": "ipython",
    "version": 3
   },
   "file_extension": ".py",
   "mimetype": "text/x-python",
   "name": "python",
   "nbconvert_exporter": "python",
   "pygments_lexer": "ipython3",
   "version": "3.10.1"
  },
  "orig_nbformat": 4,
  "vscode": {
   "interpreter": {
    "hash": "a0256f640a9faacc6fdd11ce3975ae53a442410c216a5e467e7a1e716d377cb3"
   }
  }
 },
 "nbformat": 4,
 "nbformat_minor": 2
}
